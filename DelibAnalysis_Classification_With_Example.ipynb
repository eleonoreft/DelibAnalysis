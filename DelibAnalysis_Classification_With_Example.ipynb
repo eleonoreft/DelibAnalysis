{
 "cells": [
  {
   "cell_type": "markdown",
   "metadata": {
    "collapsed": true
   },
   "source": [
    "# DelibAnalysis Classification\n",
    "\n",
    "The following script implements the random forests classifier in order to predict the Discourse Quality Index (DQI) category of online comments."
   ]
  },
  {
   "cell_type": "markdown",
   "metadata": {},
   "source": [
    "# PART 1: Processing the data and creating the model\n",
    "*Import the classification, statistical and graphing packages for python*"
   ]
  },
  {
   "cell_type": "code",
   "execution_count": 1,
   "metadata": {
    "collapsed": true
   },
   "outputs": [],
   "source": [
    "from sklearn.metrics import classification_report\n",
    "from sklearn.ensemble import RandomForestClassifier\n",
    "from sklearn.feature_extraction.text import CountVectorizer\n",
    "from sklearn.model_selection import train_test_split\n",
    "import nltk\n",
    "import re\n",
    "from nltk.corpus import stopwords\n",
    "import pandas as pd\n",
    "import numpy as np\n",
    "%matplotlib inline\n",
    "import matplotlib.pyplot as plt\n",
    "plt.style.use('ggplot')"
   ]
  },
  {
   "cell_type": "markdown",
   "metadata": {},
   "source": [
    "*Load data processing functions*"
   ]
  },
  {
   "cell_type": "code",
   "execution_count": 46,
   "metadata": {
    "collapsed": true
   },
   "outputs": [],
   "source": [
    "# Functions to process data\n",
    "\n",
    "def process_labelled_data(source_csv):\n",
    "    data_df = pd.read_csv(source_csv)\n",
    "    indicators = ['participation', 'level_of_justification', 'content_of_justification', 'respect', 'counterarguments', 'constructive_politics']\n",
    "    data_df['dqi'] = data_df[indicators].sum(axis=1)\n",
    "    data_df['dqi_groups'] = data_df.dqi.map( lambda x: 0 if x <= 5 else 1 if (x > 5 and x <=10) else 2)\n",
    "    data = data_df[['dqi', 'comment', 'dqi_groups','fb_comment', 'live_th', 'blog_comment']]\n",
    "    return data\n",
    "\n",
    "def comment_to_words(raw_comment):\n",
    "    try:\n",
    "        letters_only = re.sub(\"[^a-zA-Z]\", \" \", raw_comment)\n",
    "        words = letters_only.lower().split()\n",
    "        stops = set(stopwords.words(\"english\"))\n",
    "        meaningful_words = [w for w in words if not w in stops]\n",
    "        return(\" \".join(meaningful_words))\n",
    "    except TypeError: \n",
    "        print raw_comment  \n",
    "\n",
    "def append_features(input_matrix,input_feature):\n",
    "    count = 0\n",
    "    new_matrix = np.zeros(shape=(input_matrix.shape[0], input_matrix.shape[1]+1))\n",
    "    for i in range(0, len(input_feature)):\n",
    "        new_matrix[i] = np.append(input_matrix[i], input_feature[i])\n",
    "    return new_matrix\n",
    "\n",
    "char_dict = {'less_than_30_chars': (30,0),'between_30_and_100_chars': (100,30), 'between_100_and_300_chars': (300,100),\n",
    "'between_300_and_800_chars': (800, 300), 'between_800_and_1500_chars': (1500, 800), \n",
    "'between_1500_and_3000_chars': (3000, 1500), 'more_than_3000_chars': (1000000, 3000)}\n",
    "\n",
    "def add_character_counts(data, chars):\n",
    "    data['char_count'] = data['comment'].apply(lambda x: len(x))\n",
    "    for k, v in chars.items():\n",
    "        data[k] = data.char_count.map(lambda x: 1 if (x <= v[0] and x > v[1]) else 0)\n",
    "    return data"
   ]
  },
  {
   "cell_type": "markdown",
   "metadata": {},
   "source": [
    "*Upload and process labelled data, which represents a cross-section of the different datasets in the study.*"
   ]
  },
  {
   "cell_type": "code",
   "execution_count": 47,
   "metadata": {},
   "outputs": [
    {
     "name": "stdout",
     "output_type": "stream",
     "text": [
      "   dqi                                            comment  dqi_groups  \\\n",
      "0  2.0                           How about lowering taxes           0   \n",
      "1  2.0                              Why the interruption?           0   \n",
      "2  2.0  Make it mandatory that all apartments accept p...           0   \n",
      "3  1.0                                            Resign!           0   \n",
      "4  1.0                           Loser PM, please go away           0   \n",
      "\n",
      "   fb_comment  live_th  blog_comment                        cleaned_comment  \\\n",
      "0           1        0             0                         lowering taxes   \n",
      "1           1        0             0                           interruption   \n",
      "2           1        0             0  make mandatory apartments accept pets   \n",
      "3           1        0             0                                 resign   \n",
      "4           1        0             0                loser pm please go away   \n",
      "\n",
      "   char_count  between_100_and_300_chars  between_300_and_800_chars  \\\n",
      "0          24                          0                          0   \n",
      "1          21                          0                          0   \n",
      "2          50                          0                          0   \n",
      "3           7                          0                          0   \n",
      "4          24                          0                          0   \n",
      "\n",
      "   less_than_30_chars  more_than_3000_chars  between_800_and_1500_chars  \\\n",
      "0                   1                     0                           0   \n",
      "1                   1                     0                           0   \n",
      "2                   0                     0                           0   \n",
      "3                   1                     0                           0   \n",
      "4                   1                     0                           0   \n",
      "\n",
      "   between_1500_and_3000_chars  between_30_and_100_chars  \n",
      "0                            0                         0  \n",
      "1                            0                         0  \n",
      "2                            0                         1  \n",
      "3                            0                         0  \n",
      "4                            0                         0  \n"
     ]
    }
   ],
   "source": [
    "labelled_data = process_labelled_data(\"combined_scored.csv\")\n",
    "labelled_data[\"cleaned_comment\"] = labelled_data[\"comment\"].apply(lambda x: comment_to_words(x))\n",
    "labelled_data = add_character_counts(labelled_data, char_dict)\n",
    "print(labelled_data.head())"
   ]
  },
  {
   "cell_type": "markdown",
   "metadata": {},
   "source": [
    "*Train the random forests classifier, using 80% of the labelled dataset*"
   ]
  },
  {
   "cell_type": "code",
   "execution_count": 48,
   "metadata": {},
   "outputs": [
    {
     "name": "stdout",
     "output_type": "stream",
     "text": [
      "(576, 6000)\n",
      "(Number of comments, number of features)\n",
      "(576, 6010)\n"
     ]
    }
   ],
   "source": [
    "train, test = train_test_split(labelled_data, train_size = 0.8, random_state = 44)\n",
    "\n",
    "vectorizer = CountVectorizer(analyzer = \"word\", tokenizer = None, preprocessor = None, stop_words = None, \\\n",
    "                             max_features = 6000)\n",
    "\n",
    "train_data_features = vectorizer.fit_transform(train[\"cleaned_comment\"])\n",
    "train_data_features = train_data_features.toarray()\n",
    "\n",
    "print train_data_features.shape\n",
    "\n",
    "\n",
    "quantitative_features = [\"fb_comment\", \"live_th\", \"blog_comment\", \"less_than_30_chars\", \"between_30_and_100_chars\",\n",
    "                        \"between_100_and_300_chars\", \"between_300_and_800_chars\", \"between_800_and_1500_chars\",\n",
    "                        \"between_1500_and_3000_chars\", \"more_than_3000_chars\"]\n",
    "for i in quantitative_features:\n",
    "    train_data_features = append_features(train_data_features, train[i].as_matrix())\n",
    "\n",
    "print '(Number of comments, number of features)'\n",
    "print train_data_features.shape"
   ]
  },
  {
   "cell_type": "code",
   "execution_count": 49,
   "metadata": {},
   "outputs": [
    {
     "data": {
      "text/plain": [
       "RandomForestClassifier(bootstrap=True, class_weight=None, criterion='entropy',\n",
       "            max_depth=17, max_features=2000, max_leaf_nodes=None,\n",
       "            min_impurity_split=1e-07, min_samples_leaf=1,\n",
       "            min_samples_split=2, min_weight_fraction_leaf=0.0,\n",
       "            n_estimators=24, n_jobs=-1, oob_score=False, random_state=None,\n",
       "            verbose=0, warm_start=True)"
      ]
     },
     "execution_count": 49,
     "metadata": {},
     "output_type": "execute_result"
    }
   ],
   "source": [
    "# Create the classifier\n",
    "forest = RandomForestClassifier(n_jobs=-1, n_estimators=24, criterion=\"entropy\", max_depth=17, warm_start=True, \n",
    "                                max_features=2000, bootstrap=True)\n",
    "y,_ = pd.factorize(train['dqi_groups'])\n",
    "forest.fit(train_data_features, y)"
   ]
  },
  {
   "cell_type": "markdown",
   "metadata": {},
   "source": [
    "*View the top features selected by the classifier, by importance*"
   ]
  },
  {
   "cell_type": "code",
   "execution_count": 50,
   "metadata": {},
   "outputs": [
    {
     "name": "stdout",
     "output_type": "stream",
     "text": [
      "Feature ranking:\n"
     ]
    },
    {
     "data": {
      "text/plain": [
       "<matplotlib.text.Text at 0x111968090>"
      ]
     },
     "execution_count": 50,
     "metadata": {},
     "output_type": "execute_result"
    },
    {
     "data": {
      "image/png": "[encoded data removed]",
      "text/plain": [
       "<matplotlib.figure.Figure at 0x113ddb810>"
      ]
     },
     "metadata": {},
     "output_type": "display_data"
    }
   ],
   "source": [
    "importances = forest.feature_importances_\n",
    "std = np.std([tree.feature_importances_ for tree in forest.estimators_],\n",
    "             axis=0)\n",
    "indices = np.argsort(importances)[::-1]\n",
    "vocab = vectorizer.get_feature_names()\n",
    "for i in quantitative_features:\n",
    "    vocab.append(i)\n",
    "\n",
    "# Print the feature ranking\n",
    "print(\"Feature ranking:\")\n",
    "\n",
    "feature_importance_df = pd.DataFrame(data=None, columns = ['Feature name', 'Importance'])\n",
    "for f in range(0,50):\n",
    "    feature_importance_df.loc[f+1] = [vocab[indices[f]], importances[indices[f]]]\n",
    "\n",
    "plt = feature_importance_df.plot(kind=\"barh\", figsize=(10,10), color=\"purple\")\n",
    "plt.set_yticklabels(feature_importance_df[\"Feature name\"])\n",
    "plt.invert_yaxis()\n",
    "plt.set_title(\"Top 50 features by importance\")\n",
    "plt.set_xlabel(\"Importance\")\n",
    "plt.set_ylabel(\"Feature name\")\n"
   ]
  },
  {
   "cell_type": "markdown",
   "metadata": {},
   "source": [
    "*Process the test data (20% of the dataset), which allows us to evaluate the accuracy of the model*"
   ]
  },
  {
   "cell_type": "code",
   "execution_count": 51,
   "metadata": {},
   "outputs": [
    {
     "name": "stdout",
     "output_type": "stream",
     "text": [
      "(144, 6000)\n",
      "(Number of comments, number of features)\n",
      "(144, 6010)\n"
     ]
    }
   ],
   "source": [
    "test_data_features = vectorizer.transform(test[\"cleaned_comment\"])\n",
    "test_data_features = test_data_features.toarray()\n",
    "\n",
    "print test_data_features.shape\n",
    "\n",
    "for i in quantitative_features:\n",
    "    test_data_features = append_features(test_data_features, test[i].as_matrix())\n",
    "\n",
    "print '(Number of comments, number of features)'\n",
    "print test_data_features.shape"
   ]
  },
  {
   "cell_type": "markdown",
   "metadata": {},
   "source": [
    "*Evaluate the classifier by predicting the score of the test group*"
   ]
  },
  {
   "cell_type": "code",
   "execution_count": 52,
   "metadata": {},
   "outputs": [
    {
     "name": "stdout",
     "output_type": "stream",
     "text": [
      "Predicted   0   1  2\n",
      "Actual              \n",
      "0          75  10  1\n",
      "1          11  43  1\n",
      "2           0   1  2\n",
      "\n",
      "*Classification Report:\n",
      "             precision    recall  f1-score   support\n",
      "\n",
      "          0       0.87      0.87      0.87        86\n",
      "          1       0.80      0.78      0.79        55\n",
      "          2       0.50      0.67      0.57         3\n",
      "\n",
      "avg / total       0.84      0.83      0.83       144\n",
      "\n"
     ]
    }
   ],
   "source": [
    "result = forest.predict(test_data_features)\n",
    "\n",
    "output = pd.DataFrame(data={\"actual_dqi\": test[\"dqi_groups\"], \"predicted_dqi\": result})\n",
    "\n",
    "# Create confusion matrix\n",
    "\n",
    "print pd.crosstab(output['actual_dqi'], output['predicted_dqi'], rownames=['Actual'], \\\n",
    "                           colnames=['Predicted'])\n",
    "\n",
    "print '\\n*Classification Report:\\n', classification_report(output['actual_dqi'], output['predicted_dqi']) "
   ]
  },
  {
   "cell_type": "markdown",
   "metadata": {},
   "source": [
    "# PART 2: Running the model on un-labelled data \n",
    "*Example - predict the DQI of data from a Facebook discussion with Justin Trudeau*"
   ]
  },
  {
   "cell_type": "markdown",
   "metadata": {},
   "source": [
    "*Load and pre-process the data in the same way as the labelled data*"
   ]
  },
  {
   "cell_type": "code",
   "execution_count": 55,
   "metadata": {},
   "outputs": [
    {
     "name": "stdout",
     "output_type": "stream",
     "text": [
      "comment                        14039\n",
      "cleaned_comment                14039\n",
      "char_count                     14039\n",
      "between_100_and_300_chars      14039\n",
      "between_300_and_800_chars      14039\n",
      "less_than_30_chars             14039\n",
      "more_than_3000_chars           14039\n",
      "between_800_and_1500_chars     14039\n",
      "between_1500_and_3000_chars    14039\n",
      "between_30_and_100_chars       14039\n",
      "fb_comment                     14039\n",
      "blog_comment                   14039\n",
      "live_th                        14039\n",
      "dtype: int64\n"
     ]
    }
   ],
   "source": [
    "trudeaufb_df = pd.read_csv(\"combined_trudeau.csv\")\n",
    "trudeaufb_df[\"cleaned_comment\"] = trudeaufb_df[\"comment\"].apply(lambda x: comment_to_words(x))\n",
    "trudeaufb_df = add_character_counts(trudeaufb_df, char_dict)\n",
    "trudeaufb_df['fb_comment'] = 0\n",
    "trudeaufb_df['blog_comment'] = 1\n",
    "trudeaufb_df['live_th'] = 1\n",
    "print(trudeaufb_df.count())"
   ]
  },
  {
   "cell_type": "code",
   "execution_count": 56,
   "metadata": {},
   "outputs": [
    {
     "name": "stdout",
     "output_type": "stream",
     "text": [
      "(14039, 6000)\n"
     ]
    }
   ],
   "source": [
    "vectorizer = CountVectorizer(analyzer = \"word\", tokenizer = None, preprocessor = None, stop_words = None, \\\n",
    "                             max_features = 6000)\n",
    "\n",
    "trudeau_data_features = vectorizer.fit_transform(trudeaufb_df[\"cleaned_comment\"])\n",
    "trudeau_data_features = trudeau_data_features.toarray()\n",
    "\n",
    "print trudeau_data_features.shape\n",
    "\n",
    "for i in quantitative_features:\n",
    "    trudeau_data_features = append_features(trudeau_data_features, trudeaufb_df[i].as_matrix())"
   ]
  },
  {
   "cell_type": "markdown",
   "metadata": {},
   "source": [
    "*Predict the labels for the data (same step as used in the \"test\" step*"
   ]
  },
  {
   "cell_type": "code",
   "execution_count": 57,
   "metadata": {},
   "outputs": [
    {
     "name": "stdout",
     "output_type": "stream",
     "text": [
      "                               comments  predicted_dqi\n",
      "0                          All talk!!!!              0\n",
      "1         Do not work with George Soros              0\n",
      "2            Please fire Kathleen Wynne              0\n",
      "3                      cannot hear you!              0\n",
      "4  Yes about 3years it was approved too              0\n"
     ]
    }
   ],
   "source": [
    "result = forest.predict(trudeau_data_features)\n",
    "\n",
    "output = pd.DataFrame(data={\"comments\": trudeaufb_df[\"comment\"], \"predicted_dqi\": result})\n",
    "\n",
    "print output.head()"
   ]
  },
  {
   "cell_type": "markdown",
   "metadata": {},
   "source": [
    "*Plot the comment count by predicted DQI*"
   ]
  },
  {
   "cell_type": "code",
   "execution_count": 58,
   "metadata": {},
   "outputs": [
    {
     "name": "stdout",
     "output_type": "stream",
     "text": [
      "\n",
      "\n",
      "Mean 0.0493624902059\n",
      "Minimum 0\n",
      "Maximum 1\n",
      "Standard Deviation 0.216631432481\n",
      "Skew 4.161000199555594\n",
      "Kurtosis 15.316104577114839\n",
      "\n",
      "Probability of a comment being scored each category\n",
      "0    0.950638\n",
      "1    0.049362\n",
      "Name: predicted_dqi, dtype: float64\n"
     ]
    },
    {
     "data": {
      "image/png": "[encoded data removed]",
      "text/plain": [
       "<matplotlib.figure.Figure at 0x1120c18d0>"
      ]
     },
     "metadata": {},
     "output_type": "display_data"
    }
   ],
   "source": [
    "plt = output.hist('predicted_dqi',color=\"cornflowerblue\")\n",
    "plt[0][0].set_xlabel(\"Predicted DQI\")\n",
    "plt[0][0].set_ylabel(\"Count\")\n",
    "plt[0][0].set_title(\"Trudeau FB Discussion: Comment Count by Predicted DQI\")\n",
    "print '\\n'\n",
    "print 'Mean', output['predicted_dqi'].mean()\n",
    "print 'Minimum', output['predicted_dqi'].min()\n",
    "print 'Maximum', output['predicted_dqi'].max()\n",
    "print 'Standard Deviation', output['predicted_dqi'].std()\n",
    "print 'Skew', output['predicted_dqi'].skew()\n",
    "print 'Kurtosis', output['predicted_dqi'].kurt()\n",
    "print '\\nProbability of a comment being scored each category'\n",
    "print output['predicted_dqi'].value_counts(1)"
   ]
  },
  {
   "cell_type": "code",
   "execution_count": null,
   "metadata": {
    "collapsed": true
   },
   "outputs": [],
   "source": []
  }
 ],
 "metadata": {
  "anaconda-cloud": {},
  "kernelspec": {
   "display_name": "Python [default]",
   "language": "python",
   "name": "python2"
  },
  "language_info": {
   "codemirror_mode": {
    "name": "ipython",
    "version": 2
   },
   "file_extension": ".py",
   "mimetype": "text/x-python",
   "name": "python",
   "nbconvert_exporter": "python",
   "pygments_lexer": "ipython2",
   "version": "2.7.13"
  }
 },
 "nbformat": 4,
 "nbformat_minor": 2
}
